{
 "cells": [
  {
   "cell_type": "code",
   "execution_count": 46,
   "id": "0f7b0779",
   "metadata": {},
   "outputs": [
    {
     "data": {
      "text/html": [
       "<div>\n",
       "<style scoped>\n",
       "    .dataframe tbody tr th:only-of-type {\n",
       "        vertical-align: middle;\n",
       "    }\n",
       "\n",
       "    .dataframe tbody tr th {\n",
       "        vertical-align: top;\n",
       "    }\n",
       "\n",
       "    .dataframe thead th {\n",
       "        text-align: right;\n",
       "    }\n",
       "</style>\n",
       "<table border=\"1\" class=\"dataframe\">\n",
       "  <thead>\n",
       "    <tr style=\"text-align: right;\">\n",
       "      <th></th>\n",
       "      <th>Name</th>\n",
       "      <th>Age</th>\n",
       "      <th>Gender</th>\n",
       "      <th>Job</th>\n",
       "    </tr>\n",
       "  </thead>\n",
       "  <tbody>\n",
       "    <tr>\n",
       "      <th>0</th>\n",
       "      <td>Anna</td>\n",
       "      <td>20.0</td>\n",
       "      <td>f</td>\n",
       "      <td>Programmer</td>\n",
       "    </tr>\n",
       "    <tr>\n",
       "      <th>1</th>\n",
       "      <td>Bob</td>\n",
       "      <td>34.0</td>\n",
       "      <td>m</td>\n",
       "      <td>Writer</td>\n",
       "    </tr>\n",
       "    <tr>\n",
       "      <th>2</th>\n",
       "      <td>Charlie</td>\n",
       "      <td>23.0</td>\n",
       "      <td>m</td>\n",
       "      <td>Cook</td>\n",
       "    </tr>\n",
       "    <tr>\n",
       "      <th>3</th>\n",
       "      <td>Diana</td>\n",
       "      <td>NaN</td>\n",
       "      <td>f</td>\n",
       "      <td>programmer</td>\n",
       "    </tr>\n",
       "    <tr>\n",
       "      <th>4</th>\n",
       "      <td>Eric</td>\n",
       "      <td>33.0</td>\n",
       "      <td>m</td>\n",
       "      <td>Teacher</td>\n",
       "    </tr>\n",
       "  </tbody>\n",
       "</table>\n",
       "</div>"
      ],
      "text/plain": [
       "      Name   Age Gender         Job\n",
       "0     Anna  20.0      f  Programmer\n",
       "1      Bob  34.0      m      Writer\n",
       "2  Charlie  23.0      m        Cook\n",
       "3    Diana   NaN      f  programmer\n",
       "4     Eric  33.0      m     Teacher"
      ]
     },
     "execution_count": 46,
     "metadata": {},
     "output_type": "execute_result"
    }
   ],
   "source": [
    "import pandas as pd\n",
    "\n",
    "data = {\"Name\":['Anna','Bob','Charlie','Diana','Eric'],\n",
    "       \"Age\": [20,34,23,None,33],\n",
    "       \"Gender\": ['f','m','m','f',\"m\"],\n",
    "       \"Job\":[\"Programmer\",\"Writer\",\"Cook\",\"programmer\",\"Teacher\"]}\n",
    "\n",
    "df = pd.DataFrame(data)\n",
    "df"
   ]
  },
  {
   "cell_type": "markdown",
   "id": "f9a5deb0",
   "metadata": {},
   "source": [
    "## Preprocessing Pipeline:\n",
    "\n",
    "### Drop irrelevant column\n",
    "### Impute Missing values\n",
    "### Turn Gender to Binary / Numeric\n",
    "### One Hot Encode Jobs"
   ]
  },
  {
   "cell_type": "code",
   "execution_count": 47,
   "id": "2ee36fee",
   "metadata": {},
   "outputs": [],
   "source": [
    "from sklearn.impute import SimpleImputer\n",
    "from sklearn.preprocessing import OneHotEncoder\n",
    "\n",
    "# Drop Name Feature\n",
    "df = df.drop([\"Name\"],axis=1)\n",
    "\n",
    "# Impute Ages\n",
    "imputer = SimpleImputer(strategy=\"mean\")\n",
    "df['Age'] = imputer.fit_transform(df[['Age']])\n",
    "\n",
    "#Numeric Gender\n",
    "gender_dict = {\"m\":0,\"f\":1}\n",
    "df['Gender'] = [gender_dict[g] for g in df['Gender']]\n",
    "\n",
    "# OneHotEncoded Jobs\n",
    "encoder = OneHotEncoder()\n",
    "matrix = encoder.fit_transform(df[['Job']]).toarray()\n",
    "\n",
    "column_names = [\"Programmer\",\"Cook\",\"Writer\",\"Teacher\"]\n",
    "\n",
    "for i in range(len(matrix.T)-1):\n",
    "    df[column_names[i]] = matrix.T[i]\n",
    "    \n",
    "df = df.drop(['Job'],axis=1)"
   ]
  },
  {
   "cell_type": "code",
   "execution_count": 48,
   "id": "70b28c9f",
   "metadata": {},
   "outputs": [
    {
     "data": {
      "text/html": [
       "<div>\n",
       "<style scoped>\n",
       "    .dataframe tbody tr th:only-of-type {\n",
       "        vertical-align: middle;\n",
       "    }\n",
       "\n",
       "    .dataframe tbody tr th {\n",
       "        vertical-align: top;\n",
       "    }\n",
       "\n",
       "    .dataframe thead th {\n",
       "        text-align: right;\n",
       "    }\n",
       "</style>\n",
       "<table border=\"1\" class=\"dataframe\">\n",
       "  <thead>\n",
       "    <tr style=\"text-align: right;\">\n",
       "      <th></th>\n",
       "      <th>Age</th>\n",
       "      <th>Gender</th>\n",
       "      <th>Programmer</th>\n",
       "      <th>Cook</th>\n",
       "      <th>Writer</th>\n",
       "      <th>Teacher</th>\n",
       "    </tr>\n",
       "  </thead>\n",
       "  <tbody>\n",
       "    <tr>\n",
       "      <th>0</th>\n",
       "      <td>20.0</td>\n",
       "      <td>1</td>\n",
       "      <td>0.0</td>\n",
       "      <td>1.0</td>\n",
       "      <td>0.0</td>\n",
       "      <td>0.0</td>\n",
       "    </tr>\n",
       "    <tr>\n",
       "      <th>1</th>\n",
       "      <td>34.0</td>\n",
       "      <td>0</td>\n",
       "      <td>0.0</td>\n",
       "      <td>0.0</td>\n",
       "      <td>0.0</td>\n",
       "      <td>1.0</td>\n",
       "    </tr>\n",
       "    <tr>\n",
       "      <th>2</th>\n",
       "      <td>23.0</td>\n",
       "      <td>0</td>\n",
       "      <td>1.0</td>\n",
       "      <td>0.0</td>\n",
       "      <td>0.0</td>\n",
       "      <td>0.0</td>\n",
       "    </tr>\n",
       "    <tr>\n",
       "      <th>3</th>\n",
       "      <td>27.5</td>\n",
       "      <td>1</td>\n",
       "      <td>0.0</td>\n",
       "      <td>0.0</td>\n",
       "      <td>0.0</td>\n",
       "      <td>0.0</td>\n",
       "    </tr>\n",
       "    <tr>\n",
       "      <th>4</th>\n",
       "      <td>33.0</td>\n",
       "      <td>0</td>\n",
       "      <td>0.0</td>\n",
       "      <td>0.0</td>\n",
       "      <td>1.0</td>\n",
       "      <td>0.0</td>\n",
       "    </tr>\n",
       "  </tbody>\n",
       "</table>\n",
       "</div>"
      ],
      "text/plain": [
       "    Age  Gender  Programmer  Cook  Writer  Teacher\n",
       "0  20.0       1         0.0   1.0     0.0      0.0\n",
       "1  34.0       0         0.0   0.0     0.0      1.0\n",
       "2  23.0       0         1.0   0.0     0.0      0.0\n",
       "3  27.5       1         0.0   0.0     0.0      0.0\n",
       "4  33.0       0         0.0   0.0     1.0      0.0"
      ]
     },
     "execution_count": 48,
     "metadata": {},
     "output_type": "execute_result"
    }
   ],
   "source": [
    "df"
   ]
  },
  {
   "cell_type": "code",
   "execution_count": 49,
   "id": "846f74a1",
   "metadata": {},
   "outputs": [],
   "source": [
    "from sklearn.base import BaseEstimator, TransformerMixin\n",
    "\n",
    "class NameDropper(BaseEstimator,TransformerMixin):\n",
    "    \n",
    "    def fit(self,X,y=None):\n",
    "        return self\n",
    "    \n",
    "    def transform(self,X):\n",
    "        return X.drop(['Name'],axis=1)\n",
    "\n",
    "class AgeImputer(BaseEstimator,TransformerMixin):\n",
    "    \n",
    "    def fit(self,X,y=None):\n",
    "        return self\n",
    "    \n",
    "    def transform(self,X):\n",
    "        imputer = SimpleImputer(strategy=\"mean\")\n",
    "        X['Age'] = imputer.fit_transform(X[['Age']])\n",
    "        return X\n",
    "    \n",
    "class FeatureEncoder(BaseEstimator,TransformerMixin):\n",
    "    \n",
    "    def fit(self,X,y=None):\n",
    "        return self\n",
    "    \n",
    "    def transform(self,X):\n",
    "        gender_dict = {\"m\":0,\"f\":1}\n",
    "        X['Gender'] = [gender_dict[g] for g in X['Gender']]\n",
    "\n",
    "        # OneHotEncoded Jobs\n",
    "        encoder = OneHotEncoder()\n",
    "        matrix = encoder.fit_transform(X[['Job']]).toarray()\n",
    "\n",
    "        column_names = [\"Programmer\",\"Writer\",\"Cook\",\"Teacher\"]\n",
    "\n",
    "        for i in range(len(matrix.T)-1):\n",
    "            X[column_names[i]] = matrix.T[i]\n",
    "\n",
    "        return X.drop(['Job'],axis=1)"
   ]
  },
  {
   "cell_type": "code",
   "execution_count": 50,
   "id": "a42765aa",
   "metadata": {},
   "outputs": [],
   "source": [
    "\n",
    "data = {\"Name\":['Anna','Bob','Charlie','Diana','Eric'],\n",
    "       \"Age\": [20,34,23,None,33],\n",
    "       \"Gender\": ['f','m','m','f',\"m\"],\n",
    "       \"Job\":[\"Programmer\",\"Writer\",\"Cook\",\"programmer\",\"Teacher\"]}\n",
    "\n",
    "df2 = pd.DataFrame(data)"
   ]
  },
  {
   "cell_type": "markdown",
   "id": "5d52141d",
   "metadata": {},
   "source": [
    "#### Manual Method\n",
    "\n",
    "##### dropper = NameDropper()\n",
    "##### imp = AgeImputer()\n",
    "##### enc = FeatureEncoder()\n",
    "\n",
    "##### enc.fit_transform(imp.fit_transform(dropper.fit_transform(df2)))"
   ]
  },
  {
   "cell_type": "code",
   "execution_count": 55,
   "id": "ea7a5c6c",
   "metadata": {},
   "outputs": [
    {
     "data": {
      "text/html": [
       "<div>\n",
       "<style scoped>\n",
       "    .dataframe tbody tr th:only-of-type {\n",
       "        vertical-align: middle;\n",
       "    }\n",
       "\n",
       "    .dataframe tbody tr th {\n",
       "        vertical-align: top;\n",
       "    }\n",
       "\n",
       "    .dataframe thead th {\n",
       "        text-align: right;\n",
       "    }\n",
       "</style>\n",
       "<table border=\"1\" class=\"dataframe\">\n",
       "  <thead>\n",
       "    <tr style=\"text-align: right;\">\n",
       "      <th></th>\n",
       "      <th>Age</th>\n",
       "      <th>Gender</th>\n",
       "      <th>Programmer</th>\n",
       "      <th>Writer</th>\n",
       "      <th>Cook</th>\n",
       "      <th>Teacher</th>\n",
       "    </tr>\n",
       "  </thead>\n",
       "  <tbody>\n",
       "    <tr>\n",
       "      <th>0</th>\n",
       "      <td>20.0</td>\n",
       "      <td>1</td>\n",
       "      <td>0.0</td>\n",
       "      <td>1.0</td>\n",
       "      <td>0.0</td>\n",
       "      <td>0.0</td>\n",
       "    </tr>\n",
       "    <tr>\n",
       "      <th>1</th>\n",
       "      <td>34.0</td>\n",
       "      <td>0</td>\n",
       "      <td>0.0</td>\n",
       "      <td>0.0</td>\n",
       "      <td>0.0</td>\n",
       "      <td>1.0</td>\n",
       "    </tr>\n",
       "    <tr>\n",
       "      <th>2</th>\n",
       "      <td>23.0</td>\n",
       "      <td>0</td>\n",
       "      <td>1.0</td>\n",
       "      <td>0.0</td>\n",
       "      <td>0.0</td>\n",
       "      <td>0.0</td>\n",
       "    </tr>\n",
       "    <tr>\n",
       "      <th>3</th>\n",
       "      <td>27.5</td>\n",
       "      <td>1</td>\n",
       "      <td>0.0</td>\n",
       "      <td>0.0</td>\n",
       "      <td>0.0</td>\n",
       "      <td>0.0</td>\n",
       "    </tr>\n",
       "    <tr>\n",
       "      <th>4</th>\n",
       "      <td>33.0</td>\n",
       "      <td>0</td>\n",
       "      <td>0.0</td>\n",
       "      <td>0.0</td>\n",
       "      <td>1.0</td>\n",
       "      <td>0.0</td>\n",
       "    </tr>\n",
       "  </tbody>\n",
       "</table>\n",
       "</div>"
      ],
      "text/plain": [
       "    Age  Gender  Programmer  Writer  Cook  Teacher\n",
       "0  20.0       1         0.0     1.0   0.0      0.0\n",
       "1  34.0       0         0.0     0.0   0.0      1.0\n",
       "2  23.0       0         1.0     0.0   0.0      0.0\n",
       "3  27.5       1         0.0     0.0   0.0      0.0\n",
       "4  33.0       0         0.0     0.0   1.0      0.0"
      ]
     },
     "execution_count": 55,
     "metadata": {},
     "output_type": "execute_result"
    }
   ],
   "source": [
    "from sklearn.pipeline import Pipeline\n",
    "\n",
    "pipe = Pipeline([\n",
    "    (\"dropper\",NameDropper()),\n",
    "    (\"imputer\",AgeImputer()),\n",
    "    (\"encoder\", FeatureEncoder())\n",
    "])\n",
    "\n",
    "pipe.fit_transform(df2)"
   ]
  },
  {
   "cell_type": "markdown",
   "id": "b238c465",
   "metadata": {},
   "source": [
    "### Another Example on actual Dataset"
   ]
  },
  {
   "cell_type": "code",
   "execution_count": 61,
   "id": "3b62ff18",
   "metadata": {},
   "outputs": [
    {
     "data": {
      "text/html": [
       "<div>\n",
       "<style scoped>\n",
       "    .dataframe tbody tr th:only-of-type {\n",
       "        vertical-align: middle;\n",
       "    }\n",
       "\n",
       "    .dataframe tbody tr th {\n",
       "        vertical-align: top;\n",
       "    }\n",
       "\n",
       "    .dataframe thead th {\n",
       "        text-align: right;\n",
       "    }\n",
       "</style>\n",
       "<table border=\"1\" class=\"dataframe\">\n",
       "  <thead>\n",
       "    <tr style=\"text-align: right;\">\n",
       "      <th></th>\n",
       "      <th>longitude</th>\n",
       "      <th>latitude</th>\n",
       "      <th>housing_median_age</th>\n",
       "      <th>total_rooms</th>\n",
       "      <th>total_bedrooms</th>\n",
       "      <th>population</th>\n",
       "      <th>households</th>\n",
       "      <th>median_income</th>\n",
       "      <th>median_house_value</th>\n",
       "    </tr>\n",
       "  </thead>\n",
       "  <tbody>\n",
       "    <tr>\n",
       "      <th>0</th>\n",
       "      <td>-114.31</td>\n",
       "      <td>34.19</td>\n",
       "      <td>15.0</td>\n",
       "      <td>5612.0</td>\n",
       "      <td>1283.0</td>\n",
       "      <td>1015.0</td>\n",
       "      <td>472.0</td>\n",
       "      <td>1.4936</td>\n",
       "      <td>66900.0</td>\n",
       "    </tr>\n",
       "    <tr>\n",
       "      <th>1</th>\n",
       "      <td>-114.47</td>\n",
       "      <td>34.40</td>\n",
       "      <td>19.0</td>\n",
       "      <td>7650.0</td>\n",
       "      <td>1901.0</td>\n",
       "      <td>1129.0</td>\n",
       "      <td>463.0</td>\n",
       "      <td>1.8200</td>\n",
       "      <td>80100.0</td>\n",
       "    </tr>\n",
       "    <tr>\n",
       "      <th>2</th>\n",
       "      <td>-114.56</td>\n",
       "      <td>33.69</td>\n",
       "      <td>17.0</td>\n",
       "      <td>720.0</td>\n",
       "      <td>174.0</td>\n",
       "      <td>333.0</td>\n",
       "      <td>117.0</td>\n",
       "      <td>1.6509</td>\n",
       "      <td>85700.0</td>\n",
       "    </tr>\n",
       "    <tr>\n",
       "      <th>3</th>\n",
       "      <td>-114.57</td>\n",
       "      <td>33.64</td>\n",
       "      <td>14.0</td>\n",
       "      <td>1501.0</td>\n",
       "      <td>337.0</td>\n",
       "      <td>515.0</td>\n",
       "      <td>226.0</td>\n",
       "      <td>3.1917</td>\n",
       "      <td>73400.0</td>\n",
       "    </tr>\n",
       "    <tr>\n",
       "      <th>4</th>\n",
       "      <td>-114.57</td>\n",
       "      <td>33.57</td>\n",
       "      <td>20.0</td>\n",
       "      <td>1454.0</td>\n",
       "      <td>326.0</td>\n",
       "      <td>624.0</td>\n",
       "      <td>262.0</td>\n",
       "      <td>1.9250</td>\n",
       "      <td>65500.0</td>\n",
       "    </tr>\n",
       "  </tbody>\n",
       "</table>\n",
       "</div>"
      ],
      "text/plain": [
       "   longitude  latitude  housing_median_age  total_rooms  total_bedrooms  \\\n",
       "0    -114.31     34.19                15.0       5612.0          1283.0   \n",
       "1    -114.47     34.40                19.0       7650.0          1901.0   \n",
       "2    -114.56     33.69                17.0        720.0           174.0   \n",
       "3    -114.57     33.64                14.0       1501.0           337.0   \n",
       "4    -114.57     33.57                20.0       1454.0           326.0   \n",
       "\n",
       "   population  households  median_income  median_house_value  \n",
       "0      1015.0       472.0         1.4936             66900.0  \n",
       "1      1129.0       463.0         1.8200             80100.0  \n",
       "2       333.0       117.0         1.6509             85700.0  \n",
       "3       515.0       226.0         3.1917             73400.0  \n",
       "4       624.0       262.0         1.9250             65500.0  "
      ]
     },
     "execution_count": 61,
     "metadata": {},
     "output_type": "execute_result"
    }
   ],
   "source": [
    "import pandas as pd\n",
    "import numpy as np\n",
    "\n",
    "train_df = pd.read_csv('data/california_housing_train.csv')\n",
    "test_df = pd.read_csv('data/california_housing_test.csv')\n",
    "\n",
    "train_df.head()"
   ]
  },
  {
   "cell_type": "code",
   "execution_count": 62,
   "id": "1ee0f019",
   "metadata": {},
   "outputs": [
    {
     "data": {
      "text/html": [
       "<div>\n",
       "<style scoped>\n",
       "    .dataframe tbody tr th:only-of-type {\n",
       "        vertical-align: middle;\n",
       "    }\n",
       "\n",
       "    .dataframe tbody tr th {\n",
       "        vertical-align: top;\n",
       "    }\n",
       "\n",
       "    .dataframe thead th {\n",
       "        text-align: right;\n",
       "    }\n",
       "</style>\n",
       "<table border=\"1\" class=\"dataframe\">\n",
       "  <thead>\n",
       "    <tr style=\"text-align: right;\">\n",
       "      <th></th>\n",
       "      <th>longitude</th>\n",
       "      <th>latitude</th>\n",
       "      <th>housing_median_age</th>\n",
       "      <th>total_rooms</th>\n",
       "      <th>total_bedrooms</th>\n",
       "      <th>population</th>\n",
       "      <th>households</th>\n",
       "      <th>median_income</th>\n",
       "      <th>median_house_value</th>\n",
       "    </tr>\n",
       "  </thead>\n",
       "  <tbody>\n",
       "    <tr>\n",
       "      <th>0</th>\n",
       "      <td>-122.05</td>\n",
       "      <td>37.37</td>\n",
       "      <td>27.0</td>\n",
       "      <td>3885.0</td>\n",
       "      <td>661.0</td>\n",
       "      <td>1537.0</td>\n",
       "      <td>606.0</td>\n",
       "      <td>6.6085</td>\n",
       "      <td>344700.0</td>\n",
       "    </tr>\n",
       "    <tr>\n",
       "      <th>1</th>\n",
       "      <td>-118.30</td>\n",
       "      <td>34.26</td>\n",
       "      <td>43.0</td>\n",
       "      <td>1510.0</td>\n",
       "      <td>310.0</td>\n",
       "      <td>809.0</td>\n",
       "      <td>277.0</td>\n",
       "      <td>3.5990</td>\n",
       "      <td>176500.0</td>\n",
       "    </tr>\n",
       "    <tr>\n",
       "      <th>2</th>\n",
       "      <td>-117.81</td>\n",
       "      <td>33.78</td>\n",
       "      <td>27.0</td>\n",
       "      <td>3589.0</td>\n",
       "      <td>507.0</td>\n",
       "      <td>1484.0</td>\n",
       "      <td>495.0</td>\n",
       "      <td>5.7934</td>\n",
       "      <td>270500.0</td>\n",
       "    </tr>\n",
       "    <tr>\n",
       "      <th>3</th>\n",
       "      <td>-118.36</td>\n",
       "      <td>33.82</td>\n",
       "      <td>28.0</td>\n",
       "      <td>67.0</td>\n",
       "      <td>15.0</td>\n",
       "      <td>49.0</td>\n",
       "      <td>11.0</td>\n",
       "      <td>6.1359</td>\n",
       "      <td>330000.0</td>\n",
       "    </tr>\n",
       "    <tr>\n",
       "      <th>4</th>\n",
       "      <td>-119.67</td>\n",
       "      <td>36.33</td>\n",
       "      <td>19.0</td>\n",
       "      <td>1241.0</td>\n",
       "      <td>244.0</td>\n",
       "      <td>850.0</td>\n",
       "      <td>237.0</td>\n",
       "      <td>2.9375</td>\n",
       "      <td>81700.0</td>\n",
       "    </tr>\n",
       "  </tbody>\n",
       "</table>\n",
       "</div>"
      ],
      "text/plain": [
       "   longitude  latitude  housing_median_age  total_rooms  total_bedrooms  \\\n",
       "0    -122.05     37.37                27.0       3885.0           661.0   \n",
       "1    -118.30     34.26                43.0       1510.0           310.0   \n",
       "2    -117.81     33.78                27.0       3589.0           507.0   \n",
       "3    -118.36     33.82                28.0         67.0            15.0   \n",
       "4    -119.67     36.33                19.0       1241.0           244.0   \n",
       "\n",
       "   population  households  median_income  median_house_value  \n",
       "0      1537.0       606.0         6.6085            344700.0  \n",
       "1       809.0       277.0         3.5990            176500.0  \n",
       "2      1484.0       495.0         5.7934            270500.0  \n",
       "3        49.0        11.0         6.1359            330000.0  \n",
       "4       850.0       237.0         2.9375             81700.0  "
      ]
     },
     "execution_count": 62,
     "metadata": {},
     "output_type": "execute_result"
    }
   ],
   "source": [
    "test_df.head()"
   ]
  },
  {
   "cell_type": "code",
   "execution_count": 68,
   "id": "eaea79fa",
   "metadata": {},
   "outputs": [
    {
     "name": "stdout",
     "output_type": "stream",
     "text": [
      "[[-114.31     34.19     15.     ... 1015.      472.        1.4936]\n",
      " [-114.47     34.4      19.     ... 1129.      463.        1.82  ]\n",
      " [-114.56     33.69     17.     ...  333.      117.        1.6509]\n",
      " ...\n",
      " [-124.3      41.84     17.     ... 1244.      456.        3.0313]\n",
      " [-124.3      41.8      19.     ... 1298.      478.        1.9797]\n",
      " [-124.35     40.54     52.     ...  806.      270.        3.0147]]\n"
     ]
    },
    {
     "data": {
      "text/plain": [
       "((17000, 8), (17000,), (3000, 8), (3000,))"
      ]
     },
     "execution_count": 68,
     "metadata": {},
     "output_type": "execute_result"
    }
   ],
   "source": [
    "x_train ,y_train = train_df.to_numpy()[:,:-1],train_df.to_numpy()[:,-1]\n",
    "x_test ,y_test = test_df.to_numpy()[:,:-1],test_df.to_numpy()[:,-1]\n",
    "\n",
    "print(x_train)\n",
    "x_train.shape,y_train.shape,x_test.shape,y_test.shape"
   ]
  },
  {
   "cell_type": "code",
   "execution_count": 74,
   "id": "68cc3b05",
   "metadata": {},
   "outputs": [],
   "source": [
    "from sklearn.preprocessing import StandardScaler, MinMaxScaler, FunctionTransformer\n",
    "from copy import deepcopy\n",
    "\n",
    "\n",
    "std_scaler = StandardScaler().fit(x_train[:,:2])\n",
    "min_max_scaler = MinMaxScaler().fit(x_train[:,2:])\n",
    "\n",
    "def preprocessor(X):\n",
    "    A = np.copy(X)\n",
    "    A[:,:2] = std_scaler.transform(X[:,:2])\n",
    "    A[:,2:] = min_max_scaler.transform(X[:,2:])\n",
    "    return A"
   ]
  },
  {
   "cell_type": "code",
   "execution_count": 75,
   "id": "0a2e154d",
   "metadata": {},
   "outputs": [
    {
     "data": {
      "text/plain": [
       "array([[-1.24077729e+00,  8.16354338e-01,  5.09803922e-01, ...,\n",
       "         4.29944785e-02,  9.94902154e-02,  4.21276948e-01],\n",
       "       [ 6.29446690e-01, -6.38768279e-01,  8.23529412e-01, ...,\n",
       "         2.25903192e-02,  4.53872718e-02,  2.13728087e-01],\n",
       "       [ 8.73822623e-01, -8.63353120e-01,  5.09803922e-01, ...,\n",
       "         4.15090109e-02,  8.12366387e-02,  3.65063930e-01],\n",
       "       ...,\n",
       "       [-6.87702626e-02,  3.15717296e-01,  1.76470588e-01, ...,\n",
       "         1.93391070e-02,  3.60138135e-02,  1.23418987e-01],\n",
       "       [ 1.21794383e+00, -7.13629892e-01,  7.64705882e-01, ...,\n",
       "         1.20519073e-03,  2.13780628e-03,  1.91093916e-01],\n",
       "       [-3.38594150e-02, -5.63906665e-01,  8.03921569e-01, ...,\n",
       "         2.10207685e-02,  4.25916790e-02,  5.55916470e-01]])"
      ]
     },
     "execution_count": 75,
     "metadata": {},
     "output_type": "execute_result"
    }
   ],
   "source": [
    "preprocessor(x_test)"
   ]
  },
  {
   "cell_type": "code",
   "execution_count": 76,
   "id": "67fc4203",
   "metadata": {},
   "outputs": [
    {
     "data": {
      "text/plain": [
       "array([[-122.05  ,   37.37  ,   27.    , ..., 1537.    ,  606.    ,\n",
       "           6.6085],\n",
       "       [-118.3   ,   34.26  ,   43.    , ...,  809.    ,  277.    ,\n",
       "           3.599 ],\n",
       "       [-117.81  ,   33.78  ,   27.    , ..., 1484.    ,  495.    ,\n",
       "           5.7934],\n",
       "       ...,\n",
       "       [-119.7   ,   36.3   ,   10.    , ...,  693.    ,  220.    ,\n",
       "           2.2895],\n",
       "       [-117.12  ,   34.1   ,   40.    , ...,   46.    ,   14.    ,\n",
       "           3.2708],\n",
       "       [-119.63  ,   34.42  ,   42.    , ...,  753.    ,  260.    ,\n",
       "           8.5608]])"
      ]
     },
     "execution_count": 76,
     "metadata": {},
     "output_type": "execute_result"
    }
   ],
   "source": [
    "x_test #this is not changed"
   ]
  },
  {
   "cell_type": "code",
   "execution_count": 77,
   "id": "f86a0a96",
   "metadata": {},
   "outputs": [
    {
     "data": {
      "text/plain": [
       "FunctionTransformer(func=<function preprocessor at 0x00000152FC212670>)"
      ]
     },
     "execution_count": 77,
     "metadata": {},
     "output_type": "execute_result"
    }
   ],
   "source": [
    "preprocessor_transformer = FunctionTransformer(preprocessor)\n",
    "preprocessor_transformer"
   ]
  },
  {
   "cell_type": "code",
   "execution_count": 78,
   "id": "71975803",
   "metadata": {},
   "outputs": [
    {
     "data": {
      "text/plain": [
       "Pipeline(steps=[('Scaler',\n",
       "                 FunctionTransformer(func=<function preprocessor at 0x00000152FC212670>)),\n",
       "                ('Linear Regression', LinearRegression())])"
      ]
     },
     "execution_count": 78,
     "metadata": {},
     "output_type": "execute_result"
    }
   ],
   "source": [
    "from sklearn.pipeline import Pipeline\n",
    "from sklearn.linear_model import LinearRegression\n",
    "\n",
    "p1 = Pipeline([('Scaler',preprocessor_transformer),\n",
    "                ('Linear Regression', LinearRegression())])\n",
    "p1"
   ]
  },
  {
   "cell_type": "code",
   "execution_count": 79,
   "id": "da92c8f9",
   "metadata": {},
   "outputs": [],
   "source": [
    "from sklearn.metrics import mean_absolute_error\n",
    "\n",
    "def fit_and_print(p,x_train = x_train , y_train = y_train , x_test = x_test,y_test = y_test):\n",
    "    p.fit(x_train,y_train)\n",
    "    train_preds = p.predict(x_train)\n",
    "    test_preds = p.predict(x_test)\n",
    "    print('Training error: ' + str(mean_absolute_error(train_preds, y_train)))\n",
    "    print('Test error: '+str(mean_absolute_error(test_preds, y_test)))"
   ]
  },
  {
   "cell_type": "code",
   "execution_count": 80,
   "id": "c0622c28",
   "metadata": {},
   "outputs": [
    {
     "name": "stdout",
     "output_type": "stream",
     "text": [
      "Training error: 50795.85711786371\n",
      "Test error: 50352.228257942894\n"
     ]
    }
   ],
   "source": [
    "fit_and_print(p1)"
   ]
  },
  {
   "cell_type": "code",
   "execution_count": 81,
   "id": "314585e8",
   "metadata": {},
   "outputs": [
    {
     "name": "stdout",
     "output_type": "stream",
     "text": [
      "Training error: 30045.80900840336\n",
      "Test error: 35865.41276190476\n"
     ]
    }
   ],
   "source": [
    "from sklearn.neighbors import KNeighborsRegressor as KNR\n",
    "\n",
    "p2 = Pipeline([('Scaler',preprocessor_transformer),\n",
    "                ('Linear Regression', KNR(n_neighbors=7))])\n",
    "fit_and_print(p2)"
   ]
  },
  {
   "cell_type": "code",
   "execution_count": null,
   "id": "33b35b66",
   "metadata": {},
   "outputs": [],
   "source": []
  }
 ],
 "metadata": {
  "kernelspec": {
   "display_name": "Python 3 (ipykernel)",
   "language": "python",
   "name": "python3"
  },
  "language_info": {
   "codemirror_mode": {
    "name": "ipython",
    "version": 3
   },
   "file_extension": ".py",
   "mimetype": "text/x-python",
   "name": "python",
   "nbconvert_exporter": "python",
   "pygments_lexer": "ipython3",
   "version": "3.9.12"
  }
 },
 "nbformat": 4,
 "nbformat_minor": 5
}
